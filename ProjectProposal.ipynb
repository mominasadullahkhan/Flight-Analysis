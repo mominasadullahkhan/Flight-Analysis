{
 "cells": [
  {
   "cell_type": "markdown",
   "metadata": {},
   "source": [
    "# COGS 108 - Project Proposal"
   ]
  },
  {
   "cell_type": "markdown",
   "metadata": {},
   "source": [
    "## Important\n",
    "\n",
    "- Make sure all group members (3-5 people) are listed in the group members section.\n",
    "- ONE, and only one, member of your group should upload this notebook to TritonED. \n",
    "- Each member of the group will receive the same grade on this assignment. \n",
    "- Keep the file name the same: submit the file 'ProjectProposal.ipynb'"
   ]
  },
  {
   "cell_type": "markdown",
   "metadata": {},
   "source": [
    "## Overview"
   ]
  },
  {
   "cell_type": "markdown",
   "metadata": {},
   "source": [
    "Read the project description and detailed instructions for this assignment in the 'ProjectOutline' document."
   ]
  },
  {
   "cell_type": "markdown",
   "metadata": {},
   "source": [
    "## Group Members: Fill in the Student IDs of each group member here\n",
    "\n",
    "Replace the lines below to list each persons full student ID. Add lines as needed for your group size, and make sure each ID is listed on a separate line. \n",
    "\n",
    "- A91050002 (Jingxiao Zhang)\n",
    "- A12238337 (Arvin Dagoc)\n",
    "- A99112867 (Momin A Khan)\n",
    "- A12008027 (Sahil Bansal)"
    "- A92094901 (Tianyu Ma)"
   ]
  },
  {
   "cell_type": "markdown",
   "metadata": {},
   "source": [
    "### Research Question\n",
    "\n",
    "What is your research question? (1-2 sentences)"
   ]
  },
  {
   "cell_type": "markdown",
   "metadata": {},
   "source": [
    "We are looking for the major reason for the arrival delay of domestic flight after 2005."
   ]
  },
  {
   "cell_type": "markdown",
   "metadata": {},
   "source": [
    "### Hypothesis\n",
    "\n",
    "What is your main hypothesis and predictions? (2-3 sentences)"
   ]
  },
  {
   "cell_type": "markdown",
   "metadata": {},
   "source": [
    "We think that LateAircraftDelay(counted in minutes) might be the major reason of the delays and we believe there must be a relationship between the popularity of the destination and the reason of delay."
   ]
  },
  {
   "cell_type": "markdown",
   "metadata": {},
   "source": [
    "### Dataset(s)\n",
    "\n",
    "What data will you use to answer your question? Describe the dataset(s) in terms of number of observations, what kind of features it contains, etc. You must use at least one dataset containing at least approximately 1000 observations (if your data are smaller but you feel they are sufficient, email Prof. Voytek). You are welcome (and in fact recommended) to find multiple datasets! If you do so, describe each one, and briefly explain how you will combine them together. "
   ]
  },
  {
   "cell_type": "markdown",
   "metadata": {},
   "source": [
    "*Fill in your dataset information here*\n",
    "\n",
    "(Copy this information for each dataset)\n",
    "- Dataset Name: 2005.csv, 2006.csv, 2007.csv, 2008.csv\n",
    "- Link to the dataset: http://stat-computing.org/dataexpo/2009/the-data.html\n",
    "- Number of observations: about 21000000 flight informations\n",
    "\n",
    "1-2 sentences describing the dataset. \n",
    "The datasets of domestic flights contains the following inforamtion of the flight:\n",
    "1\tYear\t2005-2008\n",
    "2\tMonth\t1-12\n",
    "3\tDayofMonth\t1-31\n",
    "4\tDayOfWeek\t1 (Monday) - 7 (Sunday)\n",
    "5\tDepTime\tactual departure time (local, hhmm)\n",
    "6\tCRSDepTime\tscheduled departure time (local, hhmm)\n",
    "7\tArrTime\tactual arrival time (local, hhmm)\n",
    "8\tCRSArrTime\tscheduled arrival time (local, hhmm)\n",
    "9\tUniqueCarrier\tunique carrier code\n",
    "10\tFlightNum\tflight number\n",
    "11\tTailNum\tplane tail number\n",
    "12\tActualElapsedTime\tin minutes\n",
    "13\tCRSElapsedTime\tin minutes\n",
    "14\tAirTime\tin minutes\n",
    "15\tArrDelay\tarrival delay, in minutes\n",
    "16\tDepDelay\tdeparture delay, in minutes\n",
    "17\tOrigin\torigin IATA airport code\n",
    "18\tDest\tdestination IATA airport code\n",
    "19\tDistance\tin miles\n",
    "20\tTaxiIn\ttaxi in time, in minutes\n",
    "21\tTaxiOut\ttaxi out time in minutes\n",
    "22\tCancelled\twas the flight cancelled?\n",
    "23\tCancellationCode\treason for cancellation (A = carrier, B = weather, C = NAS, D = security)\n",
    "24\tDiverted\t1 = yes, 0 = no\n",
    "25\tCarrierDelay\tin minutes\n",
    "26\tWeatherDelay\tin minutes\n",
    "27\tNASDelay\tin minutes\n",
    "28\tSecurityDelay\tin minutes\n",
    "29\tLateAircraftDelay\tin minutes\n",
    "If you plan to use multiple datasets, add 1-2 sentences about how you plan to combine these datasets.\n",
    "we plan to go through all the datasets and count the number of delay and length of delay in total"
   ]
  },
  {
   "cell_type": "markdown",
   "metadata": {},
   "source": [
    "### Background and Prior Work\n",
    "\n",
    "Why is this question of interest, what background information led you to your hypothesis, and why is this important?\n",
    "\n",
    "Find some relevant prior work, and reference those sources. Even if you think you have a totally novel question, find the most similar prior work that you can and discuss how it relates to your project. \n",
    "\n",
    "References can be research publications, but they need not be. Blogs, github repositories, company websites, etc., are all viable references if they are relevant to your project.\n",
    "\n",
    "(2-3 paragraphs, including at least 2 references)"
   ]
  },
  {
   "cell_type": "markdown",
   "metadata": {},
   "source": [
    "*Fill in your background and prior work here* \n",
    "\n",
    "We believe that this is an interesting topic, as there are a lot of people in the United States who fly. By having a better understanding of these trends, it will be possible to predict their future impact on things ranging from the environment to flight efficiency.\n",
    "\n",
    "References (include links):\n",
    "- 1)Srcole.github.io. (2018). Delays of US domestic flights: trends and predictability. Available at: https://srcole.github.io/2017/04/02/flight_delay/ [Accessed 18 Feb. 2018].\n",
    "- 2)Puentes, R., & Tomer, A. (2016, July 28). Expect Delays: An Analysis of Air Travel Trends in the United States. Retrieved February 18, 2018, from https://www.brookings.edu/research/expect-delays-an-analysis-of-air-travel-trends-in-the-united-states/"
   ]
  },
  {
   "cell_type": "markdown",
   "metadata": {},
   "source": [
    "### Proposed Methods\n",
    "\n",
    "What methods will you use to analyze your data?\n",
    "\n",
    "- How 'clean' is the data? To the extent that it requires cleaning, how will you do so?\n",
    "\n",
    "     The data is very clean, we do not need to drop the NAs in the datasets.\n",
    "\n",
    "\n",
    "- How will you analyze the data? Be as specific as you can. Briefly mention any pre-processing steps that are required for your methods (for example, checking data distributions and performing any transformations that may be required). Include a brief outline of how you will apply your chosen method(s).\n",
    "\n",
    "     We plan to read in the files first and use the pandas dataframe to conbine and hold the datasets. The year of the flight inforamtion does not matter because we are not predicting the trend but counting the total amount of delays and the number of flights to a certain destination. There are 2 thing to analyze: First, the reason of delay(1. CarrierDelay in minutes, 2.WeatherDelay in minutes 3.NASDelay in minutes 4.SecurityDelay in minutes 5.LateAircraftDelay in minutes) and make a histogram of the total amount of minutes of certain reason of delay. Second, we will determine the most popular vacation destinations, along with the times of the year that they are popular and find out the relationship between the popularity of that place with the reason of delay.\n",
    "     \n",
    "\n",
    "- What do you plan to report? Briefly mention any key visualizations you plan to create, and/or the kind of results you will be able to report that address your question (this could be, for example, the outcome of some statistical test(s), prediction error on a model, a model fit parameter, etc.).\n",
    "\n",
    "     The statistical outcome of the most popular destination of certain time in a year the reason of delay associated with the destination.\n",
    "     \n",
    "\n",
    "- Include a list of packages you expect to use for you project. If you plan to use packages we have not used in class, add a very brief description about them (a few words is sufficient).\n",
    "\n",
    "        pandas\n",
    "        numpy\n",
    "        matplotlib.pyplot"
   ]
  },
  {
   "cell_type": "markdown",
   "metadata": {},
   "source": [
    "*Fill in your proposed methods information here:*\n",
    "\n",
    "countFrequencyofDelay\n",
    "findMostPopularDestinationOfMonth\n",
    "plotReasonofDelaywithDestination\n",
    "\n",
    "*Data Cleaning (2-3 sentences)*\n",
    "\n",
    "Count NA in delay columns as 0 when counting the frequency, we cannot drop the rows with NA because that will cause certain data loss.\n",
    "\n",
    "*Data Analysis (1-2 paragraphs)*\n",
    "\n",
    "iteration over columns to count the frequency of certain delays\n",
    "There are 2 thing to analyze: First, the reason of delay(1. CarrierDelay in minutes, 2.WeatherDelay in minutes 3.NASDelay in minutes 4.SecurityDelay in minutes 5.LateAircraftDelay in minutes) and make a histogram of the total amount of minutes of certain reason of delay. Second, we will determine the most popular vacation destinations, along with the times of the year that they are popular and find out the relationship between the popularity of that place with the reason of delay.\n",
    "plot reason of delay with destination\n",
    "\n",
    "*What to report (2-3 sentences)*\n",
    "\n",
    "The statistical outcome of the most popular destination of certain time in a year the reason of delay associated with the destination.\n",
    "\n",
    "Packages we plan to use:\n",
    "- a pandas\n",
    "- b matplotlib.pyplot\n",
    "- c numpy"
   ]
  },
  {
   "cell_type": "markdown",
   "metadata": {},
   "source": [
    "### Ethics and Privacy\n",
    "\n",
    "Briefly acknowledge and address any potential issues of ethics and privacy for the proposed project. In particular:\n",
    "- Do you have permission to use this data, for this purpose? \n",
    "     \n",
    "     Yes\n",
    "     \n",
    "     \n",
    "- Are there privacy concerns regarding your datasets that you need to deal with, and/or terms of use that you need to comply with?\n",
    "     \n",
    "     No, there is no personal information in our dataset\n",
    "     \n",
    "     \n",
    "- Are there potential biases in your dataset(s), in terms of who it composes, and how it was collected, that may be problematic in terms of it allowing for equitable analysis? (For example, does your data exclude particular populations, or is it likely to reflect particular human biases in a way that could be a problem?) \n",
    "     \n",
    "     No, the result is the flight inforamtion derived from domestic flights from 2005 - 2008\n",
    "     \n",
    "     \n",
    "- Are there any other issues related to your topic area, data, and/or analyses that are potentially problematic in terms of data privacy and equitable impact?\n",
    "     \n",
    "     No\n",
    "     \n",
    "     \n",
    "- How will you handle any issues you identify?\n",
    "     \n",
    "     The only issue we might have is the size of the datasets, if the datasets is way to big or complex for us to process, we might simplify the idea of finding the most popular destination by month to finding the most popular destination by season or by certain monthes(like only count December and January for winter vacation and June and July for summer vacation).\n",
    "     \n",
    "     \n",
    "(1-2 paragraphs)"
   ]
  },
  {
   "cell_type": "markdown",
   "metadata": {},
   "source": [
    "### Discussion\n",
    "\n",
    "Discuss your project, looking forward to what your results might mean, how they fit it in with what is already known, and what problems you may encounter. \n",
    "\n",
    "In particular:\n",
    "- If your analyses and hypotheses are correct, what will be the contribution of this project to the topic domain? \n",
    "     \n",
    "     If our method works it will be possible for airlines to more effectively plan their routes. By understanding   this datasets, it will be possible for carries to modify the routes and the schedule according to the results.\n",
    "     \n",
    "\n",
    "- Alternatively, what will you do if you methods don't work and/or your hypotheses are wrong? \n",
    "     \n",
    "     If the method does not work, we will need to modify our datasets or the graph we use to analyze the relationship between delays and flight destinations.If the hypothese is wrong, it will not affect the method we are using.\n",
    "\n",
    "\n",
    "- What are the potential pitfalls and potential confounds of your data and/or methods that may cause problems, and/or influence your interpretations?\n",
    "       \n",
    "     we might have trouble about the size of the datasets, if the datasets is way to big or complex for us to process, we could only plot the graph of the frequency but could not find out the relationship between the destination popularity and reason of delays.The iteration over the dataset might result in infinite loops.\n",
    "     \n",
    "     \n",
    "(2-3 paragraphs)"
   ]
  },
  {
   "cell_type": "markdown",
   "metadata": {},
   "source": [
    "*Fill in your discussion information here*"
   ]
  }
 ],
 "metadata": {
  "kernelspec": {
   "display_name": "Python 3",
   "language": "python",
   "name": "python3"
  },
  "language_info": {
   "codemirror_mode": {
    "name": "ipython",
    "version": 3
   },
   "file_extension": ".py",
   "mimetype": "text/x-python",
   "name": "python",
   "nbconvert_exporter": "python",
   "pygments_lexer": "ipython3",
   "version": "3.6.3"
  }
 },
 "nbformat": 4,
 "nbformat_minor": 2
}
